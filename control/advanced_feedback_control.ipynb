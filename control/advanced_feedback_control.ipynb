{
 "cells": [
  {
   "cell_type": "markdown",
   "metadata": {
    "deletable": false,
    "editable": false,
    "nbgrader": {
     "checksum": "2aa8e021e8188b784f3da864dd158eec",
     "grade": false,
     "grade_id": "cell-d8612d4d843287d5",
     "locked": true,
     "schema_version": 1,
     "solution": false
    }
   },
   "source": [
    "# Practicing Advanced Feedback Control\n",
    "\n",
    "In this unit we are going to explore basic feedback control on a simplified, 1-dimensional model of the quadrotor-camera. This system is more complicated than the Simple Slide Camera model because it incorporates a dependency between the velocity and a pitch angle as well as a dependency of the output angle, $\\gamma$, on the pitch angle, $\\theta$.\n",
    "\n",
    "## Pitch Slide Camera\n",
    "\n",
    "Imagine a camera attached to a cart that is allowed to slide along a 1-dimensional track. The track is elevated some height $h$ above the ground and the camera is pitched at an angle $\\theta$ relative to vertical. There is some target on the ground that the camera can observe; more specifically the camera can measure the angle $-\\pi /2 < \\gamma < \\pi/2$ from the centerline of the camera to the target. Since the view angle depends on the pitch of the camera, $\\gamma$ is a function of pitch in the form:\n",
    "\n",
    "$\\gamma = -\\left(\\text{tan}^{-1}\\left( \\frac{x_{des}-x}{h}\\right) + \\theta \\right) = \\text{tan}^{-1}\\left( \\frac{x - x_{des}}{h}\\right) - \\theta$\n",
    "\n",
    "Note that orientation of $\\gamma$ (i.e. the minus sign at the beginning of the expression) is by convention.\n",
    "\n",
    "The velocity of camera-cart system is also dependent upon the pitch angle; i.e. the larger the pitch, the greater the change in velocity (you could think of this somewhat similar to a segway scooter). The velocity dependence is defined by:\n",
    "\n",
    "$\\dot{v} = K \\text{sin}(\\theta)$\n",
    "\n",
    "The objective is to issue pitch commands commands, $\\theta_{cmd}$, in order to move the cart to a position such that $\\gamma \\rightarrow \\gamma_{des}$ (e.g. if $\\gamma_{des} = 0$, then the objective is simply to move the cart directly over the target.)\n",
    "\n",
    "This system is depicted in the below diagram:\n",
    "\n",
    "<img src=\"files/pitch_slide_camera.jpg\">\n",
    "\n",
    "This somewhat contrived system can be thought of as a simplified model of the quadrotor and it's downward-facing camera. \n",
    "The velocity of a quadrotor is in fact a function of the pitch of the quadrotor, similar to this system. The major simplification here is that the system is constrained to move in 1-dimension, which is not the case for a quadrotor.\n",
    "\n",
    "Note that the position and velocity of the cart, $x$ and $v$, and position of the target $x_{des}$ are not directly measured, only $\\gamma$ is measured.\n",
    "\n",
    "Now we will provide the code necessary to simulate this system"
   ]
  },
  {
   "cell_type": "code",
   "execution_count": 1,
   "metadata": {
    "deletable": false,
    "editable": false,
    "nbgrader": {
     "checksum": "e69599f876a700b228c820248c4f47fd",
     "grade": false,
     "grade_id": "cell-ff469d213dce7ebb",
     "locked": true,
     "schema_version": 1,
     "solution": false
    }
   },
   "outputs": [],
   "source": [
    "from __future__ import division, print_function\n",
    "import numpy as np\n",
    "import matplotlib.pyplot as plt\n",
    "\n",
    "_HEIGHT = 1.0\n",
    "_VEL_CONST = 1.0\n",
    "_TIME_STEP = 0.1\n",
    "_THETA_LIMIT = np.pi/4.0"
   ]
  },
  {
   "cell_type": "markdown",
   "metadata": {},
   "source": [
    "## Plant Dynamics, Sensors, and Actuators\n",
    "\n",
    "the following object contains functions for the plant dynamics, sensing of the target angle $\\gamma$, and actuator for $v_{cmd}$"
   ]
  },
  {
   "cell_type": "code",
   "execution_count": 2,
   "metadata": {
    "deletable": false,
    "editable": false,
    "nbgrader": {
     "checksum": "f49ada9292f5036005af079b1fffb7c1",
     "grade": false,
     "grade_id": "cell-ec28e834aa55f4b2",
     "locked": true,
     "schema_version": 1,
     "solution": false
    }
   },
   "outputs": [],
   "source": [
    "class PitchSlideCamera():\n",
    "    '''Object that defines the dynamics of the simple slide-camera'''\n",
    "    \n",
    "    def __init__(self, x_0, v_0, theta_0, x_d, gamma_d=0.0, h=_HEIGHT, k=_VEL_CONST, theta_limit=_THETA_LIMIT):\n",
    "        \n",
    "        # state variables (hidden)\n",
    "        self.__x = x_0\n",
    "        self.__v = v_0\n",
    "        \n",
    "        # reference position (hidden)\n",
    "        self.__x_d = x_d\n",
    "        \n",
    "        # reference angle (observed)\n",
    "        self.gamma_d = gamma_d\n",
    "        \n",
    "        # parameters\n",
    "        self.__h = h\n",
    "        self.__k = k\n",
    "        self.__theta_limit = theta_limit\n",
    "        \n",
    "        # control variables (observed, commanded)\n",
    "        self.__theta = theta_0\n",
    "        \n",
    "    def get_theta(self):\n",
    "        return self.__theta\n",
    "        \n",
    "    def sense_gamma(self):\n",
    "        # calculate angle from camera center line to target\n",
    "        return  np.arctan2(self.__x - self.__x_d, self.__h) - self.__theta\n",
    "    \n",
    "    def _get_hidden_position(self):\n",
    "        \n",
    "        return self.__x\n",
    "    \n",
    "    def _get_hidden_position_desired(self):\n",
    "        return self.__x_d\n",
    "    \n",
    "    def _get_hidden_velocity(self):\n",
    "        return self.__v\n",
    "    \n",
    "    def actuate_theta_command(self, theta_cmd, dt=_TIME_STEP):\n",
    "        self.__theta = min(self.__theta_limit, max(theta_cmd, -self.__theta_limit))\n",
    "        self.__v += self.__k*np.sin(self.__theta)*dt\n",
    "        self.__x += self.__v*dt "
   ]
  },
  {
   "cell_type": "markdown",
   "metadata": {},
   "source": [
    "## Controllers\n",
    "\n",
    "Functions for control algorithms such as proportional control, proportional-derivative control, etc, as well as any custom controllers you may wish to try"
   ]
  },
  {
   "cell_type": "code",
   "execution_count": 3,
   "metadata": {
    "deletable": false,
    "nbgrader": {
     "checksum": "926096be265c9aa6b2b3960b80807c1d",
     "grade": false,
     "grade_id": "cell-9963c8f9fc324c6a",
     "locked": false,
     "schema_version": 1,
     "solution": true
    }
   },
   "outputs": [],
   "source": [
    "def p_control(y_err, kp):\n",
    "    ''' compute the actuator command based on proportional error between output and desired output\n",
    "    Args:\n",
    "    y_err: y_des - y where y is the output variable of the plant\n",
    "    '''\n",
    "    \n",
    "    # TODO: write a proportional control law (hint: it is a single line, very simple equations)\n",
    "    # YOUR CODE HERE\n",
    "    cmd=kp*y_err\n",
    "    \n",
    "    return cmd"
   ]
  },
  {
   "cell_type": "code",
   "execution_count": 4,
   "metadata": {
    "deletable": false,
    "nbgrader": {
     "checksum": "cb67fe897a7ba68ac5224bcd1d5b76bb",
     "grade": false,
     "grade_id": "cell-a85713c60838d7b6",
     "locked": false,
     "schema_version": 1,
     "solution": true
    }
   },
   "outputs": [],
   "source": [
    "def pd_control(y_err, y_err_prev, dt, kp, kd):\n",
    "    '''compute the actuator command based on proportional and derivative error between output and target\n",
    "    Args:\n",
    "    y_err: y_des - y where y is the output variable of the plant\n",
    "    y_err_prev: previous step y_des - y\n",
    "    '''\n",
    "    \n",
    "    # TODO: write a proportional+derivative control law\n",
    "    # YOUR CODE HERE\n",
    "    cmd=kp*y_err+kd*(y_err-y_err_prev)/dt\n",
    "    \n",
    "    return cmd"
   ]
  },
  {
   "cell_type": "code",
   "execution_count": 5,
   "metadata": {
    "deletable": false,
    "editable": false,
    "nbgrader": {
     "checksum": "95d20127e768caf2992b1fbfc2464ce1",
     "grade": true,
     "grade_id": "cell-f733524bf5705c78",
     "locked": true,
     "points": 3,
     "schema_version": 1,
     "solution": false
    }
   },
   "outputs": [],
   "source": [
    "assert np.isclose(pd_control(0.0, 1.0, 0.1, 1.0, 1.0), -10.0)"
   ]
  },
  {
   "cell_type": "code",
   "execution_count": 6,
   "metadata": {},
   "outputs": [],
   "source": [
    "def custom_control():\n",
    "    '''custom-made controller, if you want to develop one\n",
    "    Args:\n",
    "    '''\n",
    "    pass"
   ]
  },
  {
   "cell_type": "markdown",
   "metadata": {},
   "source": [
    "## Simulation Script\n",
    "\n",
    "below is a script for testing various controllers for the `SimpleSlideCamera` plant as well as plotting the results."
   ]
  },
  {
   "cell_type": "code",
   "execution_count": 16,
   "metadata": {
    "deletable": false,
    "nbgrader": {
     "checksum": "db715d6e54f56be33321ea0a637e8f8a",
     "grade": true,
     "grade_id": "cell-3ef274ad26b69d66",
     "locked": false,
     "points": 5,
     "schema_version": 1,
     "solution": true
    }
   },
   "outputs": [
    {
     "data": {
      "image/png": "[encoded data removed]",
      "text/plain": [
       "<Figure size 432x288 with 1 Axes>"
      ]
     },
     "metadata": {
      "needs_background": "light"
     },
     "output_type": "display_data"
    }
   ],
   "source": [
    "# Control gains\n",
    "# YOUR CODE HERE\n",
    "kd=1\n",
    "kp=100\n",
    "dt=1\n",
    "\n",
    "\n",
    "# Control inputs\n",
    "dt = _TIME_STEP\n",
    "t_final = 10.0\n",
    "\n",
    "# intial conditions (position, velocity and targe position)\n",
    "x_0 = 0.0\n",
    "v_0 = 0.0\n",
    "theta_0 = 0.0\n",
    "x_des = 1.0\n",
    "\n",
    "# create SimpleSlideCamera with initial conditions\n",
    "pscam = PitchSlideCamera(x_0, v_0, theta_0, x_des)\n",
    "\n",
    "# initialize data storage\n",
    "data = dict()\n",
    "data['t'] = []\n",
    "data['theta_cmd'] = []\n",
    "data['theta'] = []\n",
    "data['err_gamma'] = []\n",
    "data['x_hidden'] = []\n",
    "data['v_hidden'] = []\n",
    "t = 0.0\n",
    "err_gamma_prev = 0.0\n",
    "while t < t_final:\n",
    "    t += dt\n",
    "    \n",
    "    # SENSOR: sense output variable gamma (angle from camera centerline to target) and calculate error from desired\n",
    "    err_gamma = pscam.gamma_d - pscam.sense_gamma()\n",
    "    \n",
    "    # CONTROLLER: call theta control algoritm\n",
    "    theta_cmd = pd_control(err_gamma, err_gamma_prev, dt, kp, kd)\n",
    "    \n",
    "    # ACTUATOR: send velocity command to plant\n",
    "    pscam.actuate_theta_command(theta_cmd)\n",
    "    \n",
    "    # store data\n",
    "    err_gamma_prev = err_gamma\n",
    "    data['t'].append(t)\n",
    "    data['theta_cmd'].append(theta_cmd)\n",
    "    data['theta'].append(pscam.get_theta())\n",
    "    data['err_gamma'].append(err_gamma)\n",
    "    data['x_hidden'].append(pscam._get_hidden_position())\n",
    "    data['v_hidden'].append(pscam._get_hidden_velocity())\n",
    "    \n",
    "# Plot Data\n",
    "handle_position, = plt.plot(data['t'], data['x_hidden'], label='position (hidden)[m]')\n",
    "handle_velocity, = plt.plot(data['t'], data['v_hidden'], label='velocity (hidden)[m/s]')\n",
    "handle_err_gamma, = plt.plot(data['t'], data['err_gamma'], label='gamma error [rad]')\n",
    "handle_theta, = plt.plot(data['t'], data['theta'], label='theta [rad]')\n",
    "plt.legend(handles=[handle_position, handle_velocity, handle_err_gamma, handle_theta])\n",
    "plt.show()"
   ]
  },
  {
   "cell_type": "markdown",
   "metadata": {
    "deletable": false,
    "editable": false,
    "nbgrader": {
     "checksum": "c1c42c9bf0346d36451b128a25fec3cd",
     "grade": false,
     "grade_id": "cell-8f2eb4a82bb7d3ff",
     "locked": true,
     "schema_version": 1,
     "solution": false
    }
   },
   "source": [
    "## Questions\n",
    "\n",
    "__Q1.__ Can you design a controller that is capable of converging the gamma error to zero?"
   ]
  },
  {
   "cell_type": "markdown",
   "metadata": {
    "deletable": false,
    "nbgrader": {
     "checksum": "6f9121b7a6625b57fd92c3d158f890fe",
     "grade": true,
     "grade_id": "cell-b089ef7714c10aaf",
     "locked": false,
     "points": 10,
     "schema_version": 1,
     "solution": true
    }
   },
   "source": [
    "The gamma error is always oscilating so it could not be zero"
   ]
  },
  {
   "cell_type": "markdown",
   "metadata": {
    "deletable": false,
    "editable": false,
    "nbgrader": {
     "checksum": "8dd37450045628ac01626d6385a38581",
     "grade": false,
     "grade_id": "cell-e7f128712eb7d3d1",
     "locked": true,
     "schema_version": 1,
     "solution": false
    }
   },
   "source": [
    "__Q2.__ The time scale to make this control converge is on the order of 10s of seconds. Our real drones, which are much more complex control problems, are capable of converging on a target much faster with far less oscillation. Can you give explanations why our drone controllers perform so much better than this controller?"
   ]
  },
  {
   "cell_type": "markdown",
   "metadata": {
    "deletable": false,
    "nbgrader": {
     "checksum": "01aa901fdca8e48d4101cb62a79f648e",
     "grade": true,
     "grade_id": "cell-4aa2b9c708b06643",
     "locked": false,
     "points": 1,
     "schema_version": 1,
     "solution": true
    }
   },
   "source": [
    "Because our drone also use the integration part of PID control, which provides us with a much better control"
   ]
  },
  {
   "cell_type": "code",
   "execution_count": null,
   "metadata": {},
   "outputs": [],
   "source": []
  }
 ],
 "metadata": {
  "kernelspec": {
   "display_name": "Python 3",
   "language": "python",
   "name": "python3"
  },
  "language_info": {
   "codemirror_mode": {
    "name": "ipython",
    "version": 3
   },
   "file_extension": ".py",
   "mimetype": "text/x-python",
   "name": "python",
   "nbconvert_exporter": "python",
   "pygments_lexer": "ipython3",
   "version": "3.6.8"
  }
 },
 "nbformat": 4,
 "nbformat_minor": 4
}
